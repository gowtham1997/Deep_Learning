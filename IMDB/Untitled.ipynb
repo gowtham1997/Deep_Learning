{
 "cells": [
  {
   "cell_type": "code",
   "execution_count": 1,
   "metadata": {
    "collapsed": true
   },
   "outputs": [],
   "source": [
    "import os"
   ]
  },
  {
   "cell_type": "code",
   "execution_count": 2,
   "metadata": {
    "collapsed": true
   },
   "outputs": [],
   "source": [
    "IMDB_dir = '/home/gowthamr/Downloads/datasets and models/IMDB sentiment dataset/aclImdb'"
   ]
  },
  {
   "cell_type": "code",
   "execution_count": 3,
   "metadata": {
    "collapsed": true
   },
   "outputs": [],
   "source": [
    "train_dir = os.path.join(IMDB_dir,'train')\n",
    "train_labels = []\n",
    "train_data = []"
   ]
  },
  {
   "cell_type": "code",
   "execution_count": 4,
   "metadata": {
    "collapsed": true
   },
   "outputs": [],
   "source": [
    "for label_type in ['pos', 'neg']:\n",
    "    dir_name = os.path.join(train_dir, label_type)\n",
    "    for fname in os.listdir(dir_name):\n",
    "        if fname[-4:] == '.txt':\n",
    "            f = open(os.path.join(dir_name,fname))\n",
    "            train_data.append(f.read())\n",
    "            f.close()\n",
    "            if label_type == 'neg':\n",
    "                train_labels.append(0)\n",
    "            else:\n",
    "                train_labels.append(1)"
   ]
  },
  {
   "cell_type": "code",
   "execution_count": 5,
   "metadata": {},
   "outputs": [
    {
     "data": {
      "text/plain": [
       "(25000, 25000)"
      ]
     },
     "execution_count": 5,
     "metadata": {},
     "output_type": "execute_result"
    }
   ],
   "source": [
    "len(train_data), len(train_labels)"
   ]
  },
  {
   "cell_type": "code",
   "execution_count": 7,
   "metadata": {},
   "outputs": [
    {
     "name": "stdout",
     "output_type": "stream",
     "text": [
      "(1325.3129200000001, 979.0, 52, 13704, ModeResult(mode=array([658]), count=array([48])))\n"
     ]
    }
   ],
   "source": [
    "import numpy as np\n",
    "from scipy import stats\n",
    "\n",
    "def mean_med_mode(arr):\n",
    "    return np.average(arr), np.median(arr),np.min(arr),np.max(arr),stats.mode(arr)\n",
    "lens = []\n",
    "for seq in train_data:\n",
    "    lens.append(len(seq))\n",
    "lens = np.array(lens)\n",
    "print mean_med_mode(lens)"
   ]
  },
  {
   "cell_type": "code",
   "execution_count": 8,
   "metadata": {},
   "outputs": [
    {
     "name": "stderr",
     "output_type": "stream",
     "text": [
      "Using TensorFlow backend.\n"
     ]
    }
   ],
   "source": [
    "from keras.preprocessing.text import Tokenizer\n",
    "from keras.preprocessing.sequence import pad_sequences\n",
    "\n",
    "max_len = 100\n",
    "vocab_size = 10000\n",
    "train_samples = 200\n",
    "valid_samples = 10000\n"
   ]
  },
  {
   "cell_type": "code",
   "execution_count": 9,
   "metadata": {
    "collapsed": true
   },
   "outputs": [],
   "source": [
    "tokenizer = Tokenizer(num_words=vocab_size)\n",
    "tokenizer.fit_on_texts(train_data)\n",
    "sequences = tokenizer.texts_to_sequences(train_data)"
   ]
  },
  {
   "cell_type": "code",
   "execution_count": 11,
   "metadata": {},
   "outputs": [
    {
     "data": {
      "text/plain": [
       "[11,\n",
       " 28,\n",
       " 6,\n",
       " 1207,\n",
       " 5,\n",
       " 103,\n",
       " 14,\n",
       " 32,\n",
       " 904,\n",
       " 2211,\n",
       " 555,\n",
       " 12,\n",
       " 6,\n",
       " 477,\n",
       " 1066,\n",
       " 1,\n",
       " 391,\n",
       " 105,\n",
       " 12,\n",
       " 382,\n",
       " 43,\n",
       " 205,\n",
       " 100,\n",
       " 3008,\n",
       " 569,\n",
       " 1,\n",
       " 4,\n",
       " 9,\n",
       " 6,\n",
       " 785,\n",
       " 12,\n",
       " 14,\n",
       " 4,\n",
       " 1,\n",
       " 652,\n",
       " 4,\n",
       " 1,\n",
       " 322,\n",
       " 72,\n",
       " 693,\n",
       " 614,\n",
       " 48,\n",
       " 13,\n",
       " 1445,\n",
       " 5,\n",
       " 1,\n",
       " 5514,\n",
       " 1,\n",
       " 717,\n",
       " 12,\n",
       " 284,\n",
       " 3,\n",
       " 8058,\n",
       " 6,\n",
       " 3975,\n",
       " 217,\n",
       " 14,\n",
       " 44,\n",
       " 445,\n",
       " 722,\n",
       " 32,\n",
       " 776,\n",
       " 1,\n",
       " 3950,\n",
       " 420,\n",
       " 5,\n",
       " 1848,\n",
       " 65,\n",
       " 9259,\n",
       " 9260,\n",
       " 14,\n",
       " 1,\n",
       " 2766,\n",
       " 6,\n",
       " 526,\n",
       " 26,\n",
       " 1,\n",
       " 261,\n",
       " 4,\n",
       " 3,\n",
       " 2766,\n",
       " 608,\n",
       " 12,\n",
       " 6,\n",
       " 569,\n",
       " 976,\n",
       " 51,\n",
       " 16,\n",
       " 1,\n",
       " 3383,\n",
       " 4,\n",
       " 82,\n",
       " 4588,\n",
       " 30,\n",
       " 83,\n",
       " 1100,\n",
       " 30,\n",
       " 2142,\n",
       " 92,\n",
       " 2,\n",
       " 414,\n",
       " 6041,\n",
       " 12,\n",
       " 2278,\n",
       " 187,\n",
       " 175,\n",
       " 5,\n",
       " 262,\n",
       " 8,\n",
       " 1,\n",
       " 4,\n",
       " 28,\n",
       " 182,\n",
       " 2766,\n",
       " 1906,\n",
       " 5,\n",
       " 32,\n",
       " 1208,\n",
       " 2766,\n",
       " 7180,\n",
       " 12,\n",
       " 119,\n",
       " 590,\n",
       " 14,\n",
       " 2410,\n",
       " 1,\n",
       " 447,\n",
       " 1023,\n",
       " 426,\n",
       " 2142,\n",
       " 88,\n",
       " 3712,\n",
       " 1,\n",
       " 111,\n",
       " 60,\n",
       " 3840,\n",
       " 14,\n",
       " 11,\n",
       " 19,\n",
       " 13,\n",
       " 579,\n",
       " 43,\n",
       " 3,\n",
       " 562,\n",
       " 19,\n",
       " 2615,\n",
       " 769,\n",
       " 2178,\n",
       " 5924,\n",
       " 1,\n",
       " 2,\n",
       " 405,\n",
       " 12,\n",
       " 59,\n",
       " 3899,\n",
       " 277,\n",
       " 1,\n",
       " 322,\n",
       " 1051]"
      ]
     },
     "execution_count": 11,
     "metadata": {},
     "output_type": "execute_result"
    }
   ],
   "source": [
    "sequences[0]"
   ]
  },
  {
   "cell_type": "code",
   "execution_count": 10,
   "metadata": {},
   "outputs": [
    {
     "name": "stdout",
     "output_type": "stream",
     "text": [
      "Found 88584 unique tokens.\n"
     ]
    }
   ],
   "source": [
    "word_index = tokenizer.word_index\n",
    "print('Found %s unique tokens.' % len(word_index))"
   ]
  },
  {
   "cell_type": "code",
   "execution_count": 12,
   "metadata": {
    "collapsed": true
   },
   "outputs": [],
   "source": [
    "data = pad_sequences(sequences, maxlen=vocab_size)"
   ]
  },
  {
   "cell_type": "code",
   "execution_count": 14,
   "metadata": {
    "collapsed": true
   },
   "outputs": [],
   "source": [
    "labels = np.array(train_labels)"
   ]
  },
  {
   "cell_type": "code",
   "execution_count": 15,
   "metadata": {},
   "outputs": [
    {
     "name": "stdout",
     "output_type": "stream",
     "text": [
      "('Shape of data tensor:', (25000, 10000))\n",
      "('Shape of label tensor:', (25000,))\n"
     ]
    }
   ],
   "source": [
    "print('Shape of data tensor:', data.shape)\n",
    "print('Shape of label tensor:', labels.shape)"
   ]
  },
  {
   "cell_type": "code",
   "execution_count": 16,
   "metadata": {
    "collapsed": true
   },
   "outputs": [],
   "source": [
    "indices = np.arange(data.shape[0])\n",
    "np.random.shuffle(indices)\n",
    "data = data[indices]\n",
    "labels = labels[indices]\n"
   ]
  },
  {
   "cell_type": "code",
   "execution_count": 17,
   "metadata": {
    "collapsed": true
   },
   "outputs": [],
   "source": [
    "x_train = data[:train_samples]\n",
    "y_train = labels[:train_samples]\n",
    "x_val = data[train_samples: train_samples + valid_samples]\n",
    "y_val = labels[train_samples: train_samples + valid_samples]"
   ]
  },
  {
   "cell_type": "code",
   "execution_count": 21,
   "metadata": {
    "collapsed": true
   },
   "outputs": [],
   "source": [
    "glove_dir = '/home/gowthamr/Downloads/datasets and models/glove_6b'\n",
    "f = open(os.path.join(glove_dir, 'glove.6B.100d.txt'))"
   ]
  },
  {
   "cell_type": "code",
   "execution_count": 24,
   "metadata": {},
   "outputs": [
    {
     "name": "stdout",
     "output_type": "stream",
     "text": [
      "Found 399998 word vectors\n"
     ]
    }
   ],
   "source": [
    "embeddings_index = {}\n",
    "for line in f:\n",
    "    values = line.split()\n",
    "    word = values[0]\n",
    "    coefs = np.asarray(values[1:], dtype='float32')\n",
    "    embeddings_index[word] = coefs\n",
    "f.close()\n",
    "print('Found %s word vectors' %(len(embeddings_index)))"
   ]
  },
  {
   "cell_type": "code",
   "execution_count": null,
   "metadata": {
    "collapsed": true
   },
   "outputs": [],
   "source": []
  },
  {
   "cell_type": "code",
   "execution_count": null,
   "metadata": {
    "collapsed": true
   },
   "outputs": [],
   "source": []
  },
  {
   "cell_type": "code",
   "execution_count": null,
   "metadata": {
    "collapsed": true
   },
   "outputs": [],
   "source": []
  },
  {
   "cell_type": "code",
   "execution_count": null,
   "metadata": {
    "collapsed": true
   },
   "outputs": [],
   "source": []
  },
  {
   "cell_type": "code",
   "execution_count": null,
   "metadata": {
    "collapsed": true
   },
   "outputs": [],
   "source": []
  },
  {
   "cell_type": "code",
   "execution_count": null,
   "metadata": {
    "collapsed": true
   },
   "outputs": [],
   "source": []
  },
  {
   "cell_type": "code",
   "execution_count": null,
   "metadata": {
    "collapsed": true
   },
   "outputs": [],
   "source": []
  },
  {
   "cell_type": "code",
   "execution_count": null,
   "metadata": {
    "collapsed": true
   },
   "outputs": [],
   "source": []
  },
  {
   "cell_type": "code",
   "execution_count": null,
   "metadata": {
    "collapsed": true
   },
   "outputs": [],
   "source": []
  }
 ],
 "metadata": {
  "kernelspec": {
   "display_name": "Python 2",
   "language": "python",
   "name": "python2"
  },
  "language_info": {
   "codemirror_mode": {
    "name": "ipython",
    "version": 2
   },
   "file_extension": ".py",
   "mimetype": "text/x-python",
   "name": "python",
   "nbconvert_exporter": "python",
   "pygments_lexer": "ipython2",
   "version": "2.7.12"
  }
 },
 "nbformat": 4,
 "nbformat_minor": 2
}
